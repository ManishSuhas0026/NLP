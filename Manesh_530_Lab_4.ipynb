{
  "nbformat": 4,
  "nbformat_minor": 0,
  "metadata": {
    "colab": {
      "provenance": [],
      "authorship_tag": "ABX9TyNPOW5Yhvi1JlQtYCWYMywl",
      "include_colab_link": true
    },
    "kernelspec": {
      "name": "python3",
      "display_name": "Python 3"
    },
    "language_info": {
      "name": "python"
    }
  },
  "cells": [
    {
      "cell_type": "markdown",
      "metadata": {
        "id": "view-in-github",
        "colab_type": "text"
      },
      "source": [
        "<a href=\"https://colab.research.google.com/github/ManishSuhas0026/NLP/blob/main/Manesh_530_Lab_4.ipynb\" target=\"_parent\"><img src=\"https://colab.research.google.com/assets/colab-badge.svg\" alt=\"Open In Colab\"/></a>"
      ]
    },
    {
      "cell_type": "code",
      "execution_count": 1,
      "metadata": {
        "colab": {
          "base_uri": "https://localhost:8080/"
        },
        "id": "CPg3h12Zw8VD",
        "outputId": "5d3c09d1-484d-4e4d-fc13-c2f8afce3c53"
      },
      "outputs": [
        {
          "output_type": "stream",
          "name": "stderr",
          "text": [
            "[nltk_data] Downloading package wordnet to /root/nltk_data...\n"
          ]
        },
        {
          "output_type": "execute_result",
          "data": {
            "text/plain": [
              "True"
            ]
          },
          "metadata": {},
          "execution_count": 1
        }
      ],
      "source": [
        "import nltk\n",
        "from nltk.corpus import wordnet\n",
        "\n",
        "nltk.download('wordnet')"
      ]
    },
    {
      "cell_type": "code",
      "source": [
        "def get_synonyms(word):\n",
        "    synonyms = []\n",
        "    for syn in wordnet.synsets(word):\n",
        "        for lemma in syn.lemmas():\n",
        "            synonyms.append(lemma.name())\n",
        "    return synonyms\n",
        "\n",
        "def get_meaning(word, index):\n",
        "    synsets = wordnet.synsets(word)\n",
        "    if synsets and index < len(synsets):\n",
        "        return synsets[index].definition()\n",
        "    else:\n",
        "        return \"No such meaning found.\"\n",
        "\n",
        "def get_pos_words(word, pos):\n",
        "    pos_words = set()\n",
        "    for syn in wordnet.synsets(word):\n",
        "        if syn.pos() == pos:\n",
        "            for lemma in syn.lemmas():\n",
        "                pos_words.add(lemma.name())\n",
        "    return list(pos_words)\n",
        "\n",
        "def get_hypernyms(word):\n",
        "    hypernyms = set()\n",
        "    for syn in wordnet.synsets(word):\n",
        "        for hypernym in syn.hypernyms():\n",
        "            for lemma in hypernym.lemmas():\n",
        "                hypernyms.add(lemma.name())\n",
        "    return list(hypernyms)\n",
        "\n",
        "def get_hyponyms(word):\n",
        "    hyponyms = set()\n",
        "    for syn in wordnet.synsets(word):\n",
        "        for hyponym in syn.hyponyms():\n",
        "            for lemma in hyponym.lemmas():\n",
        "                hyponyms.add(lemma.name())\n",
        "    return list(hyponyms)\n",
        "\n",
        "def get_similarity(word1, word2):\n",
        "    synsets1 = wordnet.synsets(word1)\n",
        "    synsets2 = wordnet.synsets(word2)\n",
        "    if synsets1 and synsets2:\n",
        "        similarity = synsets1[0].path_similarity(synsets2[0])\n",
        "        return similarity\n",
        "    else:\n",
        "        return \"No similarity found.\"\n",
        "\n",
        "words = ['bear', 'set', 'square', 'lead', 'criteria']\n",
        "\n",
        "for word in words:\n",
        "    print(\"Word:\", word)\n",
        "    synonyms = get_synonyms(word)\n",
        "    print(\"a) Meaning:\", get_meaning(word, 2))\n",
        "    print(\"b) Nouns:\", get_pos_words(word, 'n'))\n",
        "    print(\"c) Verbs:\", get_pos_words(word, 'v'))\n",
        "    print(\"d) Adjectives:\", get_pos_words(word, 'a'))\n",
        "    print(\"e) Adverbs:\", get_pos_words(word, 'r'))\n",
        "    print(\"f) Definition:\", get_meaning(word, 0))\n",
        "    print(\"g) Hypernyms:\", get_hypernyms(word))\n",
        "    print(\"h) Hyponyms:\", get_hyponyms(word))\n",
        "    hyponyms = get_hyponyms(word)\n",
        "    if len(hyponyms) >= 2:\n",
        "        similarity = get_similarity(hyponyms[0], hyponyms[1])\n",
        "        print(\"i) Similarity of Hyponyms:\", similarity)\n",
        "    else:\n",
        "        print(\"i) Not enough hyponyms to find similarity.\")\n",
        "    print(\"\\n\")"
      ],
      "metadata": {
        "colab": {
          "base_uri": "https://localhost:8080/"
        },
        "id": "QNR_hGvTxKpt",
        "outputId": "97f26dee-fb7a-4b3b-ee34-d182d47c5e13"
      },
      "execution_count": 2,
      "outputs": [
        {
          "output_type": "stream",
          "name": "stdout",
          "text": [
            "Word: bear\n",
            "a) Meaning: have\n",
            "b) Nouns: ['bear']\n",
            "c) Verbs: ['give_birth', 'suffer', 'stand', 'behave', 'put_up', 'turn_out', 'endure', 'yield', 'comport', 'pay', 'have', 'take_over', 'gestate', 'expect', 'tolerate', 'hold', 'deliver', 'acquit', 'wear', 'have_a_bun_in_the_oven', 'digest', 'stomach', 'support', 'accept', 'stick_out', 'carry', 'bear', 'assume', 'deport', 'contain', 'brook', 'abide', 'conduct', 'birth']\n",
            "d) Adjectives: []\n",
            "e) Adverbs: []\n",
            "f) Definition: massive plantigrade carnivorous or omnivorous mammals with long shaggy coats and strong claws\n",
            "g) Hypernyms: ['give_birth', 'let', 'carnivore', 'pull_in', 'produce', 'transport', 'earn', 'create', 'have', 'realize', 'feature', 'bring_forth', 'countenance', 'hold', 'include', 'bring_in', 'have_got', 'move', 'deliver', 'investor', 'make', 'permit', 'allow', 'carry', 'act', 'bear', 'take_in', 'take', 'realise', 'birth', 'gain', 'clear']\n",
            "h) Hyponyms: ['fluster', 'drop', 'comport', 'Asiatic_black_bear', 'spin_off', 'expect', 'overbear', 'acquit', 'have_young', 'hold_still_for', 'take_lying_down', 'net', 'live_with', 'kitten', 'Euarctos_americanus', 'deport', 'bear', 'pay_off', 'lamb', 'assert', 'swallow', 'retain', 'sling', 'pose', 'black_bear', 'behave', 'gestate', 'sit_out', 'balance', 'calve', 'stand_for', 'crop', 'litter', 'enclose', 'stoop', 'clear', 'foal', 'hold_in', 'put_forward', 'bear_cub', 'carry-the_can', 'pay', 'poise', 'bear_up', 'whelp', 'fruit', 'Ursus_Maritimus', 'have_a_bun_in_the_oven', 'Selenarctos_thibetanus', 'pup', 'farrow', 'cub', 'carry', 'sloth_bear', 'piggyback', 'conduct', 'polar_bear', 'fawn', 'bruin', 'Thalarctos_maritimus', 'walk_around', 'pig', 'American_black_bear', 'deal', 'Ursus_americanus', 'brown_bear', 'take_a_joke', 'ice_bear', 'confine', 'Ursus_arctos', 'twin', 'Ursus_thibetanus', 'frogmarch', 'accept', 'posture', 'Ursus_ursinus', 'Melursus_ursinus', 'face_the_music', 'seed']\n",
            "i) Similarity of Hyponyms: 0.1\n",
            "\n",
            "\n",
            "Word: set\n",
            "a) Meaning: several exercises intended to be done in series\n",
            "b) Nouns: ['circle', 'set', 'band', 'stage_set', 'solidification', 'curing', 'exercise_set', 'hardening', 'readiness', 'bent', 'solidifying', 'lot', 'Set', 'Seth']\n",
            "c) Verbs: ['adjust', 'countersink', 'prepare', 'dress', 'jell', 'congeal', 'pose', 'coiffe', 'gear_up', 'arrange', 'ready', 'put', 'go_down', 'rig', 'fructify', 'lay_out', 'plant', 'localise', 'position', 'determine', 'coiffure', 'place', 'localize', 'lay', 'coif', 'limit', 'typeset', 'do', 'define', 'sic', 'set', 'go_under', 'specify', 'mark', 'set_up', 'fix', 'correct']\n",
            "d) Adjectives: []\n",
            "e) Adverbs: []\n",
            "f) Definition: a group of things of the same kind that belong together and are so used\n",
            "g) Hypernyms: ['locating', 'gauge', 'state_of_mind', 'lay_down', 'tendency', 'play', 'ready', 'action', 'represent', 'disposition', 'neaten', 'workout', 'choose', 'come_down', 'collection', 'originate', 'representation', 'change', 'descend', 'assail', 'hone', 'assault', 'stage', 'location', 'prepare', 'social_group', 'pose', 'abstract_entity', 'assemblage', 'establish', 'initiate', 'reproduce', 'multiply', 'placement', 'fit', 'physical_exercise', 'make', 'modify', 'lay', 'print', 'exercising', 'present', 'activity', 'set_up', 'abstraction', 'natural_action', 'adjust', 'natural_process', 'pick_out', 'gear_up', 'arrange', 'procreate', 'select', 'go_down', 'put', 'outfit', 'groom', 'attack', 'physical_exertion', 'accumulation', 'positioning', 'cognitive_state', 'equip', 'place', 'approximate', 'period_of_play', 'electronic_equipment', 'alter', 'set', 'descent', 'set_on', 'correct', 'estimate', 'impress', 'guess', 'exercise', 'playing_period', 'fit_out', 'bury', 'displace', 'solidify', 'inclination', 'position', 'aggregation', 'move', 'write', 'judge', 'fall', 'emplacement', 'start', 'take', 'compose', 'fix', 'sink']\n",
            "h) Hyponyms: ['misplace', 'locus', 'sit_down', 'sign', 'pack', 'load', 'lay_over', 'ladle', 'manicure_set', 'glycerolize', 'mathematical_space', 'sow', 'conspiracy', 'product', 'reset', 'trio', 'universal_set', 'camp', 'precondition', 'siphon', 'winterize', 'settle', 'date', 'ship', 'recess', 'marshal', 'quantify', 'stick_in', 'horsy_set', 'value', 'harmonise', 'set_down', 'barrel', 'pitch', 'linearize', 'synchronise', 'assess', 'readjust', 'tee_up', 'place_down', 'seat', 'consort', 'field', 'postpose', 'topological_space', 'attune', 'name', 'bed', 'mathematical_group', 'clap', 'trench', 'harmonize', 'jet_set', 'justify', 'coterie', 'throw', 'tabularize', 'middle', 'root', 'summerize', 'plumb', 'quintet', 'sync', 'domain_of_a_function', 'sharpen', 'advance', 'score', 'teeth', 'reconcile', 'Cartesian_product', 'quadruple', 'align', 'nestle', 'prepose', 'stand', 'confederacy', 'recline', 'thrust', 'perch', 'transpose', 'horsey_set', 'pressurize', 'work', 'range', 'cohort', 'prearrange', 'company', 'quartet', 'tune', 'lay_out', 'congealment', 'fit', 'put_in', 'Four_Hundred', 'zero_in', 'clique', 'inner_circle', 'depressurize', 'mount', 'choir', 'time', 'filiate', 'lay', 'superpose', 'keynote', 'temper', 'crop', 'core', 'initialise', 'triple', 'define', 'set_ahead', 'cram', 'pair', 'diagonal', 'identify', 'rest', 'intersection', 'join', 'range_of_a_function', 'enclose', 'tune_up', 'octette', 'party', 'receiver', 'situate', 'threescore', 'set_up', 'imbricate', 'upend', 'prime', 'bucket', 'replace', 'nucleus', 'septette', 'repose', 'dibble', 'quintuple', 'congelation', 'receiving_system', 'docket', 'posit', 'afforest', 'octet', 'union', 'quintette', 'scenery', 'domain', 'emplace', 'trim', 'tee', 'wave', 'cultivate', 'arrange', 'ensconce', 'Mandelbrot_set', 'ordinate', 'proportion', 'solution', 'focus', 'put', 'septet', 'instal', 'table', 'depressurise', 'poise', 'juxtapose', 'tree', 'regulate', 'subset', 'mislay', 'coordinate', 'socialise', 'snuggle', 'winterise', 'suite', 'image', 'synset', 'stratify', 'place', 'zero', 'citify', 'singleton', 'cock', 'quintuplet', 'focalise', 'group', 'checkrow', 'pigeonhole', 'linearise', 'synchronize', 'butt', 'tabularise', 'appose', 'replant', 'focalize', 'price', 'brace', 'set', 'scene', 'glycerolise', 'stand_up', 'step', 'superimpose', 'settle_down', 'chess_set', 'bottle', 'sender', 'pillow', 'reposition', 'ground', 'lean', 'insert', 'quartette', 'socialize', 'dentition', 'place_upright', 'inclose', 'decompress', 'charge', 'provide', 'format', 'coffin', 'underlay', 'ingroup', 'shelve', 'conjugation', 'interval', 'core_group', 'initialize', 'bob', 'plant', 'car_pool', 'tax', 'position', 'sextette', 'transmitter', 'deposit', 'triplet', 'sum', 'space', 'intersperse', 'quadruplet', 'pressurise', 'lose', 'bracket', 'null_set', 'fine-tune', 'parallelize', 'portfolio', 'match', 'puddle', 'sit', 'sextet', 'modulate', 'forest', 'tabulate', 'put_back', 'pile', 'install', 'put_down', 'sestet', 'jar', 'graduate', 'triad', 'dispose', 'fix', 'introduce', 'summerise', 'rack_up', 'park', 'calibrate', 'seed']\n",
            "i) Similarity of Hyponyms: 0.08333333333333333\n",
            "\n",
            "\n",
            "Word: square\n",
            "a) Meaning: an open area at the meeting of two or more streets\n",
            "b) Nouns: ['lame', 'square', 'public_square', 'square_toes', 'foursquare', 'second_power']\n",
            "c) Verbs: ['square_up', 'feather', 'square']\n",
            "d) Adjectives: ['straight', 'square']\n",
            "e) Adverbs: ['squarely', 'square']\n",
            "f) Definition: (geometry) a plane rectangle with four equal sides and four right angles; a four-sided regular polygon\n",
            "g) Hypernyms: ['adjust', 'gibe', 'regular_polygon', 'parcel_of_land', 'piece_of_land', 'form', 'settle', 'jibe', 'number', 'piece_of_ground', 'multiply', 'parcel', 'artefact', 'conform', 'rectangle', 'fit', 'tract', 'position', 'simple', 'conservativist', 'check', 'match', 'tally', 'artifact', 'conservative', 'correspond', 'hand_tool', 'paddle', 'agree', 'adapt', 'shape', 'simpleton', 'row']\n",
            "h) Hyponyms: ['plaza', \"carpenter's_square\", 'piazza', 'place', 'square_up', 'quadrate', 'jog', 'try_square', 'even_up', 'T-square']\n",
            "i) Similarity of Hyponyms: 0.06666666666666667\n",
            "\n",
            "\n",
            "Word: lead\n",
            "a) Meaning: evidence pointing to a possible solution\n",
            "b) Nouns: ['booster_cable', 'confidential_information', 'trail', 'lead_story', 'tip', 'track', 'steer', 'jumper_cable', 'spark_advance', 'Pb', 'lede', 'lead', 'principal', 'star', 'pencil_lead', 'leading', 'jumper_lead', 'tether', 'hint', 'wind', 'leash', 'lead-in', 'atomic_number_82']\n",
            "c) Verbs: ['pass', 'moderate', 'chair', 'precede', 'run', 'leave', 'head', 'extend', 'conduce', 'go', 'conduct', 'direct', 'contribute', 'lead', 'take', 'guide', 'top', 'result']\n",
            "d) Adjectives: []\n",
            "e) Adverbs: []\n",
            "f) Definition: an advantage held by a competitor in a race\n",
            "g) Hypernyms: ['advance', 'score', 'be', 'grounds', 'thespian', 'produce', 'get', 'locomote', 'section', 'talk_over', 'promote', 'counseling', 'restraint', 'play', 'news_story', 'precede', 'induce', 'role_player', 'leave', 'have', 'slip', 'go', 'execute', 'vantage', 'graphite', 'lead', 'guidance', 'give_rise', 'strip', 'turn', 'timing', 'position', 'player', 'evidence', 'angle', 'result', 'move', 'make_pass', 'place', 'direction', 'leading', 'make', 'encourage', 'advantage', 'leadership', 'hash_out', 'histrion', 'news_article', 'plumbago', 'cause', 'do', 'travel', 'actor', 'counsel', 'discuss', 'bring_about', 'pass', 'stimulate', 'metallic_element', 'counselling', 'newspaper_article', 'boost', 'further', 'subdivision', 'wire', 'black_lead', 'metal', 'direct', 'jumper', 'perform', 'conducting_wire', 'constraint']\n",
            "h) Hyponyms: ['come', 'implicate', 'captain', 'take_hold', 'take_charge', 'lead_astray', 'co-star', 'chairman', 'TV_star', 'television_star', 'misguide', 'usher', 'go_deep', 'head', 'pig_lead', 'lead', 'movie_star', 'radiate', 'show', 'film_star', 'misdirect', 'chair', 'idol', 'entail', 'draw_away', 'take_control', 'ray', 'beacon', 'necessitate', 'spearhead', 'go_far', 'antimonial_lead', 'give', 'matinee_idol', 'hard_lead', 'hand', 'mislead', 'clip_lead']\n",
            "i) Similarity of Hyponyms: 0.09090909090909091\n",
            "\n",
            "\n",
            "Word: criteria\n",
            "a) Meaning: No such meaning found.\n",
            "b) Nouns: ['criterion', 'measure', 'standard', 'touchstone']\n",
            "c) Verbs: []\n",
            "d) Adjectives: []\n",
            "e) Adverbs: []\n",
            "f) Definition: a basis for comparison; a reference point against which other things can be evaluated\n",
            "g) Hypernyms: ['ideal', 'system_of_measurement', 'metric']\n",
            "h) Hyponyms: ['graduated_table', 'control_condition', 'earned_run_average', 'gauge', 'norm', 'grade_point_average', 'medium_of_exchange', 'procrustean_rule', 'monetary_system', 'control', 'scale_of_measurement', 'standard_of_measurement', 'ordered_series', 'scale', 'baseline', 'procrustean_standard', 'procrustean_bed', 'ERA', 'design_criteria', 'yardstick', 'GPA', 'benchmark']\n",
            "i) Similarity of Hyponyms: 0.08333333333333333\n",
            "\n",
            "\n"
          ]
        }
      ]
    }
  ]
}