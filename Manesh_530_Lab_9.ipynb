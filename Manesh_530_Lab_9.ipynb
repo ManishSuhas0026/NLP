{
  "nbformat": 4,
  "nbformat_minor": 0,
  "metadata": {
    "colab": {
      "provenance": [],
      "authorship_tag": "ABX9TyPq8WnTmxP1GMBrpF5VwHmM",
      "include_colab_link": true
    },
    "kernelspec": {
      "name": "python3",
      "display_name": "Python 3"
    },
    "language_info": {
      "name": "python"
    }
  },
  "cells": [
    {
      "cell_type": "markdown",
      "metadata": {
        "id": "view-in-github",
        "colab_type": "text"
      },
      "source": [
        "<a href=\"https://colab.research.google.com/github/ManishSuhas0026/NLP/blob/main/Manesh_530_Lab_9.ipynb\" target=\"_parent\"><img src=\"https://colab.research.google.com/assets/colab-badge.svg\" alt=\"Open In Colab\"/></a>"
      ]
    },
    {
      "cell_type": "code",
      "source": [
        "import nltk\n",
        "nltk.download('punkt')\n",
        "nltk.download('wordnet')"
      ],
      "metadata": {
        "colab": {
          "base_uri": "https://localhost:8080/"
        },
        "id": "b3veXJvf0AI_",
        "outputId": "6d4cae6c-9481-4a99-9876-a239e27338f0"
      },
      "execution_count": 2,
      "outputs": [
        {
          "output_type": "stream",
          "name": "stderr",
          "text": [
            "[nltk_data] Downloading package punkt to /root/nltk_data...\n",
            "[nltk_data]   Unzipping tokenizers/punkt.zip.\n",
            "[nltk_data] Downloading package wordnet to /root/nltk_data...\n"
          ]
        },
        {
          "output_type": "execute_result",
          "data": {
            "text/plain": [
              "True"
            ]
          },
          "metadata": {},
          "execution_count": 2
        }
      ]
    },
    {
      "cell_type": "code",
      "execution_count": 1,
      "metadata": {
        "colab": {
          "base_uri": "https://localhost:8080/"
        },
        "id": "4Aeh1uu-zwbY",
        "outputId": "5e93b056-444c-480c-dca2-7d945546848f"
      },
      "outputs": [
        {
          "output_type": "stream",
          "name": "stdout",
          "text": [
            "Edit distance between 'sitting' and 'kitten' is: 3\n"
          ]
        }
      ],
      "source": [
        "def edit_distance(str1, str2):\n",
        "    m = len(str1)\n",
        "    n = len(str2)\n",
        "\n",
        "    dp = [[0] * (n + 1) for _ in range(m + 1)]\n",
        "\n",
        "    # Fill dp[][] in bottom-up manner\n",
        "    for i in range(m + 1):\n",
        "        for j in range(n + 1):\n",
        "            # If first string is empty, only option is to insert all characters of second string\n",
        "            if i == 0:\n",
        "                dp[i][j] = j\n",
        "            # If second string is empty, only option is to remove all characters of first string\n",
        "            elif j == 0:\n",
        "                dp[i][j] = i\n",
        "            # If last characters are same, ignore last characters and recur for remaining strings\n",
        "            elif str1[i - 1] == str2[j - 1]:\n",
        "                dp[i][j] = dp[i - 1][j - 1]\n",
        "            # If last character are different, consider all possibilities and find minimum\n",
        "            else:\n",
        "                dp[i][j] = 1 + min(dp[i][j - 1],        # Insert\n",
        "                                   dp[i - 1][j],        # Remove\n",
        "                                   dp[i - 1][j - 1])    # Replace\n",
        "\n",
        "    return dp[m][n]\n",
        "\n",
        "str1 = \"sitting\"\n",
        "str2 = \"kitten\"\n",
        "print(\"Edit distance between '{}' and '{}' is: {}\".format(str1, str2, edit_distance(str1, str2)))\n"
      ]
    },
    {
      "cell_type": "code",
      "source": [
        "import random\n",
        "\n",
        "def generate_poem(keywords):\n",
        "    love_templates = [\n",
        "        \"In the depths of the {heart}, {emotion} blooms,\",\n",
        "        \"With {person}, love is a {metaphor},\",\n",
        "        \"Under the {moon}, love whispers {words},\",\n",
        "    ]\n",
        "\n",
        "    adventure_templates = [\n",
        "        \"Amidst the {landscape}, adventure calls,\",\n",
        "        \"With {companion}, the world becomes a {terrain},\",\n",
        "        \"Through {challenge}, adventure finds its {reward},\",\n",
        "    ]\n",
        "\n",
        "    mystery_templates = [\n",
        "        \"In shadows deep, mystery unfolds,\",\n",
        "        \"Beyond the {veil}, secrets linger like {noun},\",\n",
        "        \"With every {clue}, the puzzle becomes more {adjective},\",\n",
        "    ]\n",
        "\n",
        "    poem = \"\"\n",
        "    for keyword in keywords:\n",
        "        if \"love\" in keyword:\n",
        "            template = random.choice(love_templates)\n",
        "        elif \"adventure\" in keyword:\n",
        "            template = random.choice(adventure_templates)\n",
        "        elif \"mystery\" in keyword:\n",
        "            template = random.choice(mystery_templates)\n",
        "        else:\n",
        "            template = \"A journey begins, with stories untold,\"\n",
        "\n",
        "        poem += template.format(\n",
        "            heart=\"heart\",\n",
        "            emotion=\"emotion\",\n",
        "            person=\"person\",\n",
        "            metaphor=\"metaphor\",\n",
        "            moon=\"moon\",\n",
        "            words=\"words\",\n",
        "            landscape=\"landscape\",\n",
        "            companion=\"companion\",\n",
        "            terrain=\"terrain\",\n",
        "            challenge=\"challenge\",\n",
        "            reward=\"reward\",\n",
        "            veil=\"veil\",\n",
        "            noun=\"noun\",\n",
        "            adjective=\"adjective\",\n",
        "            clue=\"clue\"\n",
        "        ) + \"\\n\"\n",
        "\n",
        "    return poem.strip()\n",
        "\n",
        "def main():\n",
        "    keywords = [\"love\", \"adventure\", \"mystery\"]\n",
        "    generated_poem = generate_poem(keywords)\n",
        "    print(\"Generated Poem:\")\n",
        "    print(generated_poem)\n",
        "\n",
        "if __name__ == \"__main__\":\n",
        "    main()\n"
      ],
      "metadata": {
        "colab": {
          "base_uri": "https://localhost:8080/"
        },
        "id": "Krc7dRAe0EkA",
        "outputId": "c1aa99bd-2cb5-40a5-958e-e49482a863fe"
      },
      "execution_count": 3,
      "outputs": [
        {
          "output_type": "stream",
          "name": "stdout",
          "text": [
            "Generated Poem:\n",
            "With person, love is a metaphor,\n",
            "Amidst the landscape, adventure calls,\n",
            "Beyond the veil, secrets linger like noun,\n"
          ]
        }
      ]
    }
  ]
}